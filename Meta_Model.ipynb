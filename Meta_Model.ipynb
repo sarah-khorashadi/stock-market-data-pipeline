{
 "cells": [
  {
   "cell_type": "code",
   "execution_count": 89,
   "metadata": {},
   "outputs": [],
   "source": [
    "# !pip install sklearn"
   ]
  },
  {
   "cell_type": "code",
   "execution_count": 90,
   "metadata": {},
   "outputs": [],
   "source": [
    "import pandas as pd\n",
    "from sklearn.model_selection import train_test_split\n",
    "from sklearn.ensemble import RandomForestClassifier\n",
    "from sklearn.metrics import classification_report, accuracy_score\n",
    "import numpy as np"
   ]
  },
  {
   "cell_type": "code",
   "execution_count": 91,
   "metadata": {},
   "outputs": [],
   "source": [
    "data = pd.read_csv('./data/features_with_metasignals/meta_labelig_وسکاب.csv')"
   ]
  },
  {
   "cell_type": "code",
   "execution_count": 92,
   "metadata": {},
   "outputs": [
    {
     "name": "stdout",
     "output_type": "stream",
     "text": [
      "0     0\n",
      "1     0\n",
      "2     0\n",
      "3     0\n",
      "4     0\n",
      "     ..\n",
      "60    0\n",
      "61    0\n",
      "62    0\n",
      "63    0\n",
      "64    0\n",
      "Name: meta_label, Length: 65, dtype: int64\n",
      "<class 'numpy.ndarray'>\n",
      "Meta-Model Accuracy: 1.0\n",
      "Classification Report:\n",
      "               precision    recall  f1-score   support\n",
      "\n",
      "           0       1.00      1.00      1.00        33\n",
      "\n",
      "    accuracy                           1.00        33\n",
      "   macro avg       1.00      1.00      1.00        33\n",
      "weighted avg       1.00      1.00      1.00        33\n",
      "\n"
     ]
    }
   ],
   "source": [
    "\n",
    "\n",
    "# Sample DataFrame with features and meta-labels\n",
    "# Assume 'df' has the following columns:\n",
    "# - 'feature1', 'feature2', ...: Features from the primary model\n",
    "# - 'meta_label': Meta-labels generated from the previous step\n",
    "print(data['meta_label'])\n",
    "\n",
    "# Define features and target variable\n",
    "X = data[['Volume_rate','high_rate','low_rate','open_rate','earning_rate','individual_buy_count','corporate_buy_count','individual_sell_count','corporate_sell_count','individual_buy_vol','corporate_buy_vol','individual_sell_vol','corporate_sell_vol','individual_buy_value','corporate_buy_value','individual_sell_value','corporate_sell_value','individual_buy_mean_price','individual_sell_mean_price','corporate_buy_mean_price','corporate_sell_mean_price']]  # Features for the meta-model\n",
    "y = data['meta_label']               # Meta-labels as target variable\n",
    "\n",
    "# Split the data into training and testing sets\n",
    "X_train, X_test, y_train, y_test = train_test_split(X, y, test_size=0.5, random_state=42)\n",
    "\n",
    "# Initialize the meta-model (Random Forest Classifier)\n",
    "meta_model = RandomForestClassifier(n_estimators=100, random_state=42)\n",
    "\n",
    "# Train the meta-model\n",
    "meta_model.fit(X_train, y_train)\n",
    "\n",
    "# Make predictions on the test set\n",
    "y_pred = meta_model.predict(X_test)\n",
    "print(type(y_pred))\n",
    "# Evaluate the meta-model\n",
    "accuracy = accuracy_score(y_test, y_pred)\n",
    "report = classification_report(y_test, y_pred)\n",
    "\n",
    "print(\"Meta-Model Accuracy:\", accuracy)\n",
    "print(\"Classification Report:\\n\", report)"
   ]
  },
  {
   "cell_type": "code",
   "execution_count": 93,
   "metadata": {},
   "outputs": [],
   "source": [
    "y_total_pred = meta_model.predict(X)"
   ]
  },
  {
   "cell_type": "code",
   "execution_count": 94,
   "metadata": {},
   "outputs": [],
   "source": [
    "data_befor = pd.read_csv('./data/predicted_signals/data_pred_signals_وسکاب.csv')"
   ]
  },
  {
   "cell_type": "code",
   "execution_count": 95,
   "metadata": {},
   "outputs": [],
   "source": [
    "cdf = data_befor"
   ]
  },
  {
   "cell_type": "code",
   "execution_count": 96,
   "metadata": {},
   "outputs": [],
   "source": [
    "cdf['signal'] = y_total_pred"
   ]
  },
  {
   "cell_type": "code",
   "execution_count": 97,
   "metadata": {},
   "outputs": [],
   "source": [
    "cdf.to_csv('./data/meta_labeling_وسکاب.csv', index = False)"
   ]
  }
 ],
 "metadata": {
  "kernelspec": {
   "display_name": "Python 3",
   "language": "python",
   "name": "python3"
  },
  "language_info": {
   "codemirror_mode": {
    "name": "ipython",
    "version": 3
   },
   "file_extension": ".py",
   "mimetype": "text/x-python",
   "name": "python",
   "nbconvert_exporter": "python",
   "pygments_lexer": "ipython3",
   "version": "3.11.4"
  },
  "orig_nbformat": 4
 },
 "nbformat": 4,
 "nbformat_minor": 2
}
