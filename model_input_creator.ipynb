{
 "cells": [
  {
   "cell_type": "code",
   "execution_count": 1,
   "metadata": {},
   "outputs": [],
   "source": [
    "import os\n",
    "import pandas as pd\n",
    "import numpy as np\n",
    "import pickle\n"
   ]
  },
  {
   "cell_type": "code",
   "execution_count": 65,
   "metadata": {},
   "outputs": [],
   "source": [
    "file_path = './data/historical_data.csv'\n",
    "sdf = pd.read_csv(file_path)"
   ]
  },
  {
   "cell_type": "code",
   "execution_count": 67,
   "metadata": {},
   "outputs": [
    {
     "name": "stdout",
     "output_type": "stream",
     "text": [
      "     Unnamed: 0        Date      J-Date    Open    High     Low   Close  \\\n",
      "119         119  2022-11-15  1401-08-24  1840.0  1841.0  1790.0  1807.0   \n",
      "120         120  2022-11-16  1401-08-25  1800.0  1836.0  1770.0  1801.0   \n",
      "121         121  2022-11-19  1401-08-28  1800.0  1800.0  1708.0  1739.0   \n",
      "122         122  2022-11-20  1401-08-29  1720.0  1823.0  1720.0  1800.0   \n",
      "123         123  2022-11-21  1401-08-30  1825.0  1900.0  1792.0  1833.0   \n",
      "..          ...         ...         ...     ...     ...     ...     ...   \n",
      "294         294  2023-07-30  1402-05-08  2742.0  2742.0  2537.0  2590.0   \n",
      "295         295  2023-07-31  1402-05-09  2640.0  2699.0  2596.0  2673.0   \n",
      "296         296  2023-08-01  1402-05-10  2750.0  2750.0  2655.0  2710.0   \n",
      "297         297  2023-08-02  1402-05-10  2750.0  2750.0  2655.0  2710.0   \n",
      "298         298  2023-08-05  1402-05-14  2751.0  2875.0  2710.0  2875.0   \n",
      "\n",
      "      Final      Volume  Ticker  ...  corporate_sell_vol  \\\n",
      "119  1811.0  16539331.0  بترانس  ...           -0.341624   \n",
      "120  1800.0  14680409.0  بترانس  ...           -0.424766   \n",
      "121  1734.0  21613350.0  بترانس  ...           -0.428250   \n",
      "122  1795.0  26216450.0  بترانس  ...           -0.353428   \n",
      "123  1850.0  36905249.0  بترانس  ...           -0.266218   \n",
      "..      ...         ...     ...  ...                 ...   \n",
      "294  2589.0  38139567.0  بترانس  ...           -0.405597   \n",
      "295  2646.0  19782930.0  بترانس  ...           -0.382945   \n",
      "296  2687.0  19881817.0  بترانس  ...           -0.416818   \n",
      "297  2687.0  19881817.0  بترانس  ...           -0.416818   \n",
      "298  2849.0  61896973.0  بترانس  ...            0.304204   \n",
      "\n",
      "     individual_buy_value  corporate_buy_value  individual_sell_value  \\\n",
      "119             -0.645515            -0.449753              -0.711239   \n",
      "120             -0.668924            -0.453305              -0.722083   \n",
      "121             -0.591631            -0.462298              -0.637095   \n",
      "122             -0.529328            -0.446023              -0.578044   \n",
      "123             -0.384358            -0.445044              -0.433646   \n",
      "..                    ...                  ...                    ...   \n",
      "294             -0.210800            -0.270106              -0.175239   \n",
      "295             -0.479461            -0.514833              -0.536255   \n",
      "296             -0.483297            -0.457963              -0.518411   \n",
      "297             -0.483297            -0.457963              -0.518411   \n",
      "298              0.361931            -0.480725               0.201169   \n",
      "\n",
      "     corporate_sell_value  individual_buy_mean_price  \\\n",
      "119             -0.343561                  -1.165430   \n",
      "120             -0.393938                  -1.187419   \n",
      "121             -0.396041                  -1.314349   \n",
      "122             -0.351741                  -1.197975   \n",
      "123             -0.296267                  -1.093357   \n",
      "..                    ...                        ...   \n",
      "294             -0.376611                   0.322086   \n",
      "295             -0.356158                   0.430865   \n",
      "296             -0.385821                   0.511789   \n",
      "297             -0.385821                   0.511789   \n",
      "298              0.300768                   0.821280   \n",
      "\n",
      "     individual_sell_mean_price  corporate_buy_mean_price  \\\n",
      "119                   -1.168475                 -1.167982   \n",
      "120                   -1.186734                 -1.175997   \n",
      "121                   -1.314663                 -1.320116   \n",
      "122                   -1.197021                 -1.195387   \n",
      "123                   -1.092938                 -1.070689   \n",
      "..                          ...                       ...   \n",
      "294                    0.323189                  0.329174   \n",
      "295                    0.430952                  0.406520   \n",
      "296                    0.511824                  0.496841   \n",
      "297                    0.511824                  0.496841   \n",
      "298                    0.812493                  0.657338   \n",
      "\n",
      "     corporate_sell_mean_price  individual_ownership_change  \n",
      "119                  -1.204464                    -0.007938  \n",
      "120                  -1.216516                    -0.091957  \n",
      "121                  -1.216516                    -0.089153  \n",
      "122                  -1.284357                    -0.026069  \n",
      "123                  -1.146712                     0.069670  \n",
      "..                         ...                          ...  \n",
      "294                   0.259218                    -0.193768  \n",
      "295                   0.390460                     0.041532  \n",
      "296                   0.470090                    -0.041268  \n",
      "297                   0.470090                    -0.041268  \n",
      "298                   0.802978                     0.743725  \n",
      "\n",
      "[180 rows x 35 columns]\n"
     ]
    }
   ],
   "source": [
    "print(sdf[-270:-90])"
   ]
  },
  {
   "cell_type": "code",
   "execution_count": 6,
   "metadata": {},
   "outputs": [
    {
     "data": {
      "text/plain": [
       "(20739, 34)"
      ]
     },
     "execution_count": 6,
     "metadata": {},
     "output_type": "execute_result"
    }
   ],
   "source": [
    "sdf.shape"
   ]
  },
  {
   "cell_type": "code",
   "execution_count": 25,
   "metadata": {},
   "outputs": [
    {
     "data": {
      "text/plain": [
       "(223, 93, 21)"
      ]
     },
     "execution_count": 25,
     "metadata": {},
     "output_type": "execute_result"
    }
   ],
   "source": [
    "sorted_data = sdf.sort_values([\"Date\",\"Ticker\"])\n",
    "df = np.array(sorted_data[['Volume_rate','high_rate','low_rate','open_rate','earning_rate','individual_buy_count','corporate_buy_count','individual_sell_count','corporate_sell_count','individual_buy_vol','corporate_buy_vol','individual_sell_vol','corporate_sell_vol','individual_buy_value','corporate_buy_value','individual_sell_value','corporate_sell_value','individual_buy_mean_price','individual_sell_mean_price','corporate_buy_mean_price','corporate_sell_mean_price']])\n",
    "print(df)\n",
    "df = df.reshape(223,93,21)\n",
    "df.shape"
   ]
  },
  {
   "cell_type": "code",
   "execution_count": 26,
   "metadata": {},
   "outputs": [],
   "source": [
    "y = np.array(sorted_data['label']).reshape(223,93)"
   ]
  },
  {
   "cell_type": "code",
   "execution_count": 27,
   "metadata": {},
   "outputs": [
    {
     "data": {
      "text/plain": [
       "array([0, 0, 0, 0, 0, 0, 0, 0, 0, 0, 0, 0, 0, 0, 0, 0, 0, 0, 1, 0, 0, 0,\n",
       "       0, 1, 1, 0, 0, 0, 1, 0, 0, 0, 0, 0, 0, 0, 0, 0, 1, 0, 1, 0, 0, 0,\n",
       "       0, 0, 0, 0, 0, 0, 0, 0, 0, 0, 0, 1, 0, 0, 0, 0, 0, 0, 0, 0, 0, 0,\n",
       "       0, 1, 0, 0, 0, 0, 1, 0, 0, 0, 0, 0, 0, 0, 0, 0, 0, 0, 0, 0, 0, 0,\n",
       "       0, 1, 1, 0, 0], dtype=int64)"
      ]
     },
     "execution_count": 27,
     "metadata": {},
     "output_type": "execute_result"
    }
   ],
   "source": [
    "y[0]"
   ]
  },
  {
   "cell_type": "code",
   "execution_count": 22,
   "metadata": {},
   "outputs": [],
   "source": [
    "with open('./data/x_model_input.pkl', 'wb') as file:\n",
    "    # Use pickle.dump() to write the data to the file\n",
    "    pickle.dump(df, file)"
   ]
  },
  {
   "cell_type": "code",
   "execution_count": 23,
   "metadata": {},
   "outputs": [],
   "source": [
    "with open('./data/y_model_input.pkl', 'wb') as file:\n",
    "    # Use pickle.dump() to write the data to the file\n",
    "    pickle.dump(y, file)"
   ]
  },
  {
   "cell_type": "code",
   "execution_count": 62,
   "metadata": {},
   "outputs": [
    {
     "data": {
      "text/plain": [
       "0.2913178106244953"
      ]
     },
     "execution_count": 62,
     "metadata": {},
     "output_type": "execute_result"
    }
   ],
   "source": [
    "sorted_data = sdf.sort_values([\"Ticker\", \"Date\"])\n",
    "df = np.array(sorted_data[['Low','Open','High','Close','Volume']])\n",
    "df = df.reshape(93,223, 5)\n",
    "df[0][0][4]"
   ]
  }
 ],
 "metadata": {
  "kernelspec": {
   "display_name": "Python 3",
   "language": "python",
   "name": "python3"
  },
  "language_info": {
   "codemirror_mode": {
    "name": "ipython",
    "version": 3
   },
   "file_extension": ".py",
   "mimetype": "text/x-python",
   "name": "python",
   "nbconvert_exporter": "python",
   "pygments_lexer": "ipython3",
   "version": "3.11.4"
  },
  "orig_nbformat": 4
 },
 "nbformat": 4,
 "nbformat_minor": 2
}
